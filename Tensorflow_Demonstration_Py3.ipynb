{
 "cells": [
  {
   "cell_type": "code",
   "execution_count": 2,
   "metadata": {},
   "outputs": [],
   "source": [
    "import numpy as np\n",
    "import os\n",
    "os.environ['TF_CPP_MIN_LOG_LEVEL'] = '2' \n",
    "import tensorflow as tf"
   ]
  },
  {
   "cell_type": "markdown",
   "metadata": {},
   "source": [
    "# Layer Functions"
   ]
  },
  {
   "cell_type": "code",
   "execution_count": 3,
   "metadata": {},
   "outputs": [],
   "source": [
    "def fc_layer(input_tensor, output_neurons, name, doRelu=True):\n",
    "    with tf.variable_scope(name):\n",
    "        shape = input_tensor.get_shape().as_list()\n",
    "        dim = 1\n",
    "        for d in shape[1:]:\n",
    "            dim *= d\n",
    "        x = tf.reshape(input_tensor, [-1, dim])\n",
    "\n",
    "        init = tf.random_normal_initializer(dtype=tf.float32, mean=0., stddev=0.1)\n",
    "\n",
    "        weights = tf.get_variable(name=\"W\", initializer=init, shape=[dim, output_neurons])\n",
    "        biases = tf.get_variable(name=\"b\", initializer=init, shape=[output_neurons])\n",
    "        \n",
    "        # Fully connected layer. Note that the '+' operation automatically\n",
    "        # broadcasts the biases.\n",
    "        fc = tf.nn.bias_add(tf.matmul(x, weights), biases)\n",
    "\n",
    "        if doRelu:\n",
    "            fc = tf.nn.relu(fc)\n",
    "\n",
    "        return fc"
   ]
  },
  {
   "cell_type": "markdown",
   "metadata": {},
   "source": [
    "# Construct Net"
   ]
  },
  {
   "cell_type": "code",
   "execution_count": 4,
   "metadata": {},
   "outputs": [],
   "source": [
    "tf.reset_default_graph()"
   ]
  },
  {
   "cell_type": "code",
   "execution_count": 5,
   "metadata": {},
   "outputs": [],
   "source": [
    "learning_rate = .0001\n",
    "iters = 10000\n",
    "batch_size = 1"
   ]
  },
  {
   "cell_type": "code",
   "execution_count": 6,
   "metadata": {},
   "outputs": [],
   "source": [
    "input_nums = tf.placeholder(tf.float32, shape=[None, 2, 1], name='input_nums')\n",
    "label = tf.placeholder(tf.float32, shape=[None, 1], name='label')"
   ]
  },
  {
   "cell_type": "code",
   "execution_count": 7,
   "metadata": {},
   "outputs": [
    {
     "name": "stdout",
     "output_type": "stream",
     "text": [
      "WARNING:tensorflow:From <ipython-input-3-6a7625f75f61>:9: calling RandomNormal.__init__ (from tensorflow.python.ops.init_ops) with dtype is deprecated and will be removed in a future version.\n",
      "Instructions for updating:\n",
      "Call initializer instance with the dtype argument instead of passing it to the constructor\n"
     ]
    }
   ],
   "source": [
    "layer1 = fc_layer(input_nums, 32, 'layer1', doRelu=True)\n",
    "layer2 = fc_layer(layer1, 16, 'layer2', doRelu=True)\n",
    "output = fc_layer(layer2, 1, 'layer3', doRelu=False)"
   ]
  },
  {
   "cell_type": "code",
   "execution_count": 8,
   "metadata": {},
   "outputs": [
    {
     "name": "stdout",
     "output_type": "stream",
     "text": [
      "WARNING:tensorflow:From /localhomes/dorie/virt/lvpy36/lib/python3.6/site-packages/tensorflow/python/ops/losses/losses_impl.py:121: add_dispatch_support.<locals>.wrapper (from tensorflow.python.ops.array_ops) is deprecated and will be removed in a future version.\n",
      "Instructions for updating:\n",
      "Use tf.where in 2.0, which has the same broadcast rule as np.where\n"
     ]
    }
   ],
   "source": [
    "loss = tf.losses.mean_squared_error(predictions=output,labels=label)"
   ]
  },
  {
   "cell_type": "code",
   "execution_count": 9,
   "metadata": {},
   "outputs": [],
   "source": [
    "opt = tf.train.AdamOptimizer(learning_rate).minimize(loss)"
   ]
  },
  {
   "cell_type": "markdown",
   "metadata": {},
   "source": [
    "# Train Net"
   ]
  },
  {
   "cell_type": "code",
   "execution_count": 11,
   "metadata": {},
   "outputs": [
    {
     "name": "stdout",
     "output_type": "stream",
     "text": [
      "0.6108772372421266\n",
      "0.5209443379059587\n",
      "0.3880664544855127\n",
      "0.29589996310700195\n",
      "0.23816115466520774\n",
      "0.1993006139127171\n",
      "0.17151310751392074\n",
      "0.1505558418205\n",
      "0.13414554142983964\n"
     ]
    }
   ],
   "source": [
    "sess = tf.Session()\n",
    "\n",
    "sess.run(tf.global_variables_initializer())\n",
    "\n",
    "total_loss = 0.\n",
    "\n",
    "for it in range(iters):\n",
    "\n",
    "    # Input data\n",
    "    train_data = np.random.uniform(low=-1., high=1., size=(batch_size,2,1))\n",
    "    label_data = np.sum(train_data, axis=1)\n",
    "\n",
    "    out_loss, _ = sess.run([loss, opt], feed_dict={input_nums: train_data, label: label_data})\n",
    "\n",
    "    total_loss += out_loss\n",
    "\n",
    "    if it % 1000 == 0 and it != 0:\n",
    "        print (total_loss / it)"
   ]
  },
  {
   "cell_type": "markdown",
   "metadata": {},
   "source": [
    "# Run Inference"
   ]
  },
  {
   "cell_type": "code",
   "execution_count": 12,
   "metadata": {},
   "outputs": [],
   "source": [
    "test_nums = np.array([.3, -.7]).reshape(1,2,1)"
   ]
  },
  {
   "cell_type": "code",
   "execution_count": 13,
   "metadata": {},
   "outputs": [],
   "source": [
    "test_out = sess.run(output, feed_dict={input_nums: test_nums})"
   ]
  },
  {
   "cell_type": "code",
   "execution_count": 14,
   "metadata": {},
   "outputs": [
    {
     "data": {
      "text/plain": [
       "array([[-0.4352274]], dtype=float32)"
      ]
     },
     "execution_count": 14,
     "metadata": {},
     "output_type": "execute_result"
    }
   ],
   "source": [
    "test_out"
   ]
  },
  {
   "cell_type": "markdown",
   "metadata": {},
   "source": [
    "# Check Value of Weights"
   ]
  },
  {
   "cell_type": "code",
   "execution_count": 15,
   "metadata": {},
   "outputs": [],
   "source": [
    "# Layer 1 weights - NOTE THAT YOU HAVE TO ADD \":0\" FOR A TENSOR (not for an op)\n",
    "weight_check = tf.get_default_graph().get_tensor_by_name(\"layer1/W:0\")"
   ]
  },
  {
   "cell_type": "code",
   "execution_count": 17,
   "metadata": {},
   "outputs": [
    {
     "name": "stdout",
     "output_type": "stream",
     "text": [
      "[[-0.05499791  0.34143427  0.04941327 -0.25879753  0.1387203  -0.01624228\n",
      "   0.25707397 -0.12612686 -0.13855977  0.03373919 -0.32463023 -0.10652398\n",
      "  -0.14723903  0.28885636  0.01198885  0.08861446 -0.24387743 -0.19036406\n",
      "  -0.11006048 -0.2104132   0.01663758 -0.07826228  0.20885164 -0.33584917\n",
      "   0.06990956  0.07641693 -0.19608274 -0.17648749  0.21840057 -0.03743926\n",
      "   0.03898008 -0.16360632]\n",
      " [-0.00797489  0.11324963 -0.10633794  0.08113813  0.19876641  0.05272452\n",
      "   0.28063893 -0.33201253  0.09563021  0.08126398 -0.16633065  0.18218221\n",
      "  -0.09054985  0.11533346 -0.24464805  0.19892749 -0.25088573 -0.13433157\n",
      "  -0.2891779  -0.22887714 -0.09445945 -0.21585678  0.27212805 -0.09458359\n",
      "   0.00878388  0.26201278 -0.22439581 -0.06799366  0.05453108 -0.30448684\n",
      "   0.3597803  -0.19976616]]\n"
     ]
    }
   ],
   "source": [
    "print (sess.run(weight_check))"
   ]
  },
  {
   "cell_type": "markdown",
   "metadata": {},
   "source": [
    "Good luck trying to figure that out"
   ]
  },
  {
   "cell_type": "markdown",
   "metadata": {},
   "source": [
    "# Explore Graph"
   ]
  },
  {
   "cell_type": "code",
   "execution_count": 19,
   "metadata": {},
   "outputs": [
    {
     "name": "stdout",
     "output_type": "stream",
     "text": [
      "input_nums\n",
      "label\n",
      "layer1/Reshape/shape\n",
      "layer1/Reshape\n",
      "layer1/W/Initializer/random_normal/shape\n",
      "layer1/W/Initializer/random_normal/mean\n",
      "layer1/W/Initializer/random_normal/stddev\n",
      "layer1/W/Initializer/random_normal/RandomStandardNormal\n",
      "layer1/W/Initializer/random_normal/mul\n",
      "layer1/W/Initializer/random_normal\n",
      "layer1/W\n",
      "layer1/W/Assign\n",
      "layer1/W/read\n",
      "layer1/b/Initializer/random_normal/shape\n",
      "layer1/b/Initializer/random_normal/mean\n",
      "layer1/b/Initializer/random_normal/stddev\n",
      "layer1/b/Initializer/random_normal/RandomStandardNormal\n",
      "layer1/b/Initializer/random_normal/mul\n",
      "layer1/b/Initializer/random_normal\n",
      "layer1/b\n",
      "layer1/b/Assign\n",
      "layer1/b/read\n",
      "layer1/MatMul\n",
      "layer1/BiasAdd\n",
      "layer1/Relu\n",
      "layer2/Reshape/shape\n",
      "layer2/Reshape\n",
      "layer2/W/Initializer/random_normal/shape\n",
      "layer2/W/Initializer/random_normal/mean\n",
      "layer2/W/Initializer/random_normal/stddev\n",
      "layer2/W/Initializer/random_normal/RandomStandardNormal\n",
      "layer2/W/Initializer/random_normal/mul\n",
      "layer2/W/Initializer/random_normal\n",
      "layer2/W\n",
      "layer2/W/Assign\n",
      "layer2/W/read\n",
      "layer2/b/Initializer/random_normal/shape\n",
      "layer2/b/Initializer/random_normal/mean\n",
      "layer2/b/Initializer/random_normal/stddev\n",
      "layer2/b/Initializer/random_normal/RandomStandardNormal\n",
      "layer2/b/Initializer/random_normal/mul\n",
      "layer2/b/Initializer/random_normal\n",
      "layer2/b\n",
      "layer2/b/Assign\n",
      "layer2/b/read\n",
      "layer2/MatMul\n",
      "layer2/BiasAdd\n",
      "layer2/Relu\n",
      "layer3/Reshape/shape\n",
      "layer3/Reshape\n",
      "layer3/W/Initializer/random_normal/shape\n",
      "layer3/W/Initializer/random_normal/mean\n",
      "layer3/W/Initializer/random_normal/stddev\n",
      "layer3/W/Initializer/random_normal/RandomStandardNormal\n",
      "layer3/W/Initializer/random_normal/mul\n",
      "layer3/W/Initializer/random_normal\n",
      "layer3/W\n",
      "layer3/W/Assign\n",
      "layer3/W/read\n",
      "layer3/b/Initializer/random_normal/shape\n",
      "layer3/b/Initializer/random_normal/mean\n",
      "layer3/b/Initializer/random_normal/stddev\n",
      "layer3/b/Initializer/random_normal/RandomStandardNormal\n",
      "layer3/b/Initializer/random_normal/mul\n",
      "layer3/b/Initializer/random_normal\n",
      "layer3/b\n",
      "layer3/b/Assign\n",
      "layer3/b/read\n",
      "layer3/MatMul\n",
      "layer3/BiasAdd\n",
      "mean_squared_error/SquaredDifference\n",
      "mean_squared_error/assert_broadcastable/weights\n",
      "mean_squared_error/assert_broadcastable/weights/shape\n",
      "mean_squared_error/assert_broadcastable/weights/rank\n",
      "mean_squared_error/assert_broadcastable/values/shape\n",
      "mean_squared_error/assert_broadcastable/values/rank\n",
      "mean_squared_error/assert_broadcastable/static_scalar_check_success\n",
      "mean_squared_error/Cast/x\n",
      "mean_squared_error/Mul\n",
      "mean_squared_error/Const\n",
      "mean_squared_error/Sum\n",
      "mean_squared_error/num_present/Equal/y\n",
      "mean_squared_error/num_present/Equal\n",
      "mean_squared_error/num_present/zeros_like\n",
      "mean_squared_error/num_present/ones_like/Shape\n",
      "mean_squared_error/num_present/ones_like/Const\n",
      "mean_squared_error/num_present/ones_like\n",
      "mean_squared_error/num_present/Select\n",
      "mean_squared_error/num_present/broadcast_weights/assert_broadcastable/weights/shape\n",
      "mean_squared_error/num_present/broadcast_weights/assert_broadcastable/weights/rank\n",
      "mean_squared_error/num_present/broadcast_weights/assert_broadcastable/values/shape\n",
      "mean_squared_error/num_present/broadcast_weights/assert_broadcastable/values/rank\n",
      "mean_squared_error/num_present/broadcast_weights/assert_broadcastable/static_scalar_check_success\n",
      "mean_squared_error/num_present/broadcast_weights/ones_like/Shape\n",
      "mean_squared_error/num_present/broadcast_weights/ones_like/Const\n",
      "mean_squared_error/num_present/broadcast_weights/ones_like\n",
      "mean_squared_error/num_present/broadcast_weights\n",
      "mean_squared_error/num_present/Const\n",
      "mean_squared_error/num_present\n",
      "mean_squared_error/Const_1\n",
      "mean_squared_error/Sum_1\n",
      "mean_squared_error/value\n",
      "gradients/Shape\n",
      "gradients/grad_ys_0\n",
      "gradients/Fill\n",
      "gradients/mean_squared_error/value_grad/Shape\n",
      "gradients/mean_squared_error/value_grad/Shape_1\n",
      "gradients/mean_squared_error/value_grad/BroadcastGradientArgs\n",
      "gradients/mean_squared_error/value_grad/div_no_nan\n",
      "gradients/mean_squared_error/value_grad/Sum\n",
      "gradients/mean_squared_error/value_grad/Reshape\n",
      "gradients/mean_squared_error/value_grad/Neg\n",
      "gradients/mean_squared_error/value_grad/div_no_nan_1\n",
      "gradients/mean_squared_error/value_grad/div_no_nan_2\n",
      "gradients/mean_squared_error/value_grad/mul\n",
      "gradients/mean_squared_error/value_grad/Sum_1\n",
      "gradients/mean_squared_error/value_grad/Reshape_1\n",
      "gradients/mean_squared_error/value_grad/tuple/group_deps\n",
      "gradients/mean_squared_error/value_grad/tuple/control_dependency\n",
      "gradients/mean_squared_error/value_grad/tuple/control_dependency_1\n",
      "gradients/mean_squared_error/Sum_1_grad/Reshape/shape\n",
      "gradients/mean_squared_error/Sum_1_grad/Reshape\n",
      "gradients/mean_squared_error/Sum_1_grad/Const\n",
      "gradients/mean_squared_error/Sum_1_grad/Tile\n",
      "gradients/mean_squared_error/Sum_grad/Reshape/shape\n",
      "gradients/mean_squared_error/Sum_grad/Reshape\n",
      "gradients/mean_squared_error/Sum_grad/Shape\n",
      "gradients/mean_squared_error/Sum_grad/Tile\n",
      "gradients/mean_squared_error/Mul_grad/Shape\n",
      "gradients/mean_squared_error/Mul_grad/Shape_1\n",
      "gradients/mean_squared_error/Mul_grad/BroadcastGradientArgs\n",
      "gradients/mean_squared_error/Mul_grad/Mul\n",
      "gradients/mean_squared_error/Mul_grad/Sum\n",
      "gradients/mean_squared_error/Mul_grad/Reshape\n",
      "gradients/mean_squared_error/Mul_grad/Mul_1\n",
      "gradients/mean_squared_error/Mul_grad/Sum_1\n",
      "gradients/mean_squared_error/Mul_grad/Reshape_1\n",
      "gradients/mean_squared_error/Mul_grad/tuple/group_deps\n",
      "gradients/mean_squared_error/Mul_grad/tuple/control_dependency\n",
      "gradients/mean_squared_error/Mul_grad/tuple/control_dependency_1\n",
      "gradients/mean_squared_error/SquaredDifference_grad/Shape\n",
      "gradients/mean_squared_error/SquaredDifference_grad/Shape_1\n",
      "gradients/mean_squared_error/SquaredDifference_grad/BroadcastGradientArgs\n",
      "gradients/mean_squared_error/SquaredDifference_grad/scalar\n",
      "gradients/mean_squared_error/SquaredDifference_grad/Mul\n",
      "gradients/mean_squared_error/SquaredDifference_grad/sub\n",
      "gradients/mean_squared_error/SquaredDifference_grad/mul_1\n",
      "gradients/mean_squared_error/SquaredDifference_grad/Sum\n",
      "gradients/mean_squared_error/SquaredDifference_grad/Reshape\n",
      "gradients/mean_squared_error/SquaredDifference_grad/Sum_1\n",
      "gradients/mean_squared_error/SquaredDifference_grad/Reshape_1\n",
      "gradients/mean_squared_error/SquaredDifference_grad/Neg\n",
      "gradients/mean_squared_error/SquaredDifference_grad/tuple/group_deps\n",
      "gradients/mean_squared_error/SquaredDifference_grad/tuple/control_dependency\n",
      "gradients/mean_squared_error/SquaredDifference_grad/tuple/control_dependency_1\n",
      "gradients/layer3/BiasAdd_grad/BiasAddGrad\n",
      "gradients/layer3/BiasAdd_grad/tuple/group_deps\n",
      "gradients/layer3/BiasAdd_grad/tuple/control_dependency\n",
      "gradients/layer3/BiasAdd_grad/tuple/control_dependency_1\n",
      "gradients/layer3/MatMul_grad/MatMul\n",
      "gradients/layer3/MatMul_grad/MatMul_1\n",
      "gradients/layer3/MatMul_grad/tuple/group_deps\n",
      "gradients/layer3/MatMul_grad/tuple/control_dependency\n",
      "gradients/layer3/MatMul_grad/tuple/control_dependency_1\n",
      "gradients/layer3/Reshape_grad/Shape\n",
      "gradients/layer3/Reshape_grad/Reshape\n",
      "gradients/layer2/Relu_grad/ReluGrad\n",
      "gradients/layer2/BiasAdd_grad/BiasAddGrad\n",
      "gradients/layer2/BiasAdd_grad/tuple/group_deps\n",
      "gradients/layer2/BiasAdd_grad/tuple/control_dependency\n",
      "gradients/layer2/BiasAdd_grad/tuple/control_dependency_1\n",
      "gradients/layer2/MatMul_grad/MatMul\n",
      "gradients/layer2/MatMul_grad/MatMul_1\n",
      "gradients/layer2/MatMul_grad/tuple/group_deps\n",
      "gradients/layer2/MatMul_grad/tuple/control_dependency\n",
      "gradients/layer2/MatMul_grad/tuple/control_dependency_1\n",
      "gradients/layer2/Reshape_grad/Shape\n",
      "gradients/layer2/Reshape_grad/Reshape\n",
      "gradients/layer1/Relu_grad/ReluGrad\n",
      "gradients/layer1/BiasAdd_grad/BiasAddGrad\n",
      "gradients/layer1/BiasAdd_grad/tuple/group_deps\n",
      "gradients/layer1/BiasAdd_grad/tuple/control_dependency\n",
      "gradients/layer1/BiasAdd_grad/tuple/control_dependency_1\n",
      "gradients/layer1/MatMul_grad/MatMul\n",
      "gradients/layer1/MatMul_grad/MatMul_1\n",
      "gradients/layer1/MatMul_grad/tuple/group_deps\n",
      "gradients/layer1/MatMul_grad/tuple/control_dependency\n",
      "gradients/layer1/MatMul_grad/tuple/control_dependency_1\n",
      "beta1_power/initial_value\n",
      "beta1_power\n",
      "beta1_power/Assign\n",
      "beta1_power/read\n",
      "beta2_power/initial_value\n",
      "beta2_power\n",
      "beta2_power/Assign\n",
      "beta2_power/read\n",
      "layer1/W/Adam/Initializer/zeros\n",
      "layer1/W/Adam\n",
      "layer1/W/Adam/Assign\n",
      "layer1/W/Adam/read\n",
      "layer1/W/Adam_1/Initializer/zeros\n",
      "layer1/W/Adam_1\n",
      "layer1/W/Adam_1/Assign\n",
      "layer1/W/Adam_1/read\n",
      "layer1/b/Adam/Initializer/zeros\n",
      "layer1/b/Adam\n",
      "layer1/b/Adam/Assign\n",
      "layer1/b/Adam/read\n",
      "layer1/b/Adam_1/Initializer/zeros\n",
      "layer1/b/Adam_1\n",
      "layer1/b/Adam_1/Assign\n",
      "layer1/b/Adam_1/read\n",
      "layer2/W/Adam/Initializer/zeros\n",
      "layer2/W/Adam\n",
      "layer2/W/Adam/Assign\n",
      "layer2/W/Adam/read\n",
      "layer2/W/Adam_1/Initializer/zeros\n",
      "layer2/W/Adam_1\n",
      "layer2/W/Adam_1/Assign\n",
      "layer2/W/Adam_1/read\n",
      "layer2/b/Adam/Initializer/zeros\n",
      "layer2/b/Adam\n",
      "layer2/b/Adam/Assign\n",
      "layer2/b/Adam/read\n",
      "layer2/b/Adam_1/Initializer/zeros\n",
      "layer2/b/Adam_1\n",
      "layer2/b/Adam_1/Assign\n",
      "layer2/b/Adam_1/read\n",
      "layer3/W/Adam/Initializer/zeros\n",
      "layer3/W/Adam\n",
      "layer3/W/Adam/Assign\n",
      "layer3/W/Adam/read\n",
      "layer3/W/Adam_1/Initializer/zeros\n",
      "layer3/W/Adam_1\n",
      "layer3/W/Adam_1/Assign\n",
      "layer3/W/Adam_1/read\n",
      "layer3/b/Adam/Initializer/zeros\n",
      "layer3/b/Adam\n",
      "layer3/b/Adam/Assign\n",
      "layer3/b/Adam/read\n",
      "layer3/b/Adam_1/Initializer/zeros\n",
      "layer3/b/Adam_1\n",
      "layer3/b/Adam_1/Assign\n",
      "layer3/b/Adam_1/read\n",
      "Adam/learning_rate\n",
      "Adam/beta1\n",
      "Adam/beta2\n",
      "Adam/epsilon\n",
      "Adam/update_layer1/W/ApplyAdam\n",
      "Adam/update_layer1/b/ApplyAdam\n",
      "Adam/update_layer2/W/ApplyAdam\n",
      "Adam/update_layer2/b/ApplyAdam\n",
      "Adam/update_layer3/W/ApplyAdam\n",
      "Adam/update_layer3/b/ApplyAdam\n",
      "Adam/mul\n",
      "Adam/Assign\n",
      "Adam/mul_1\n",
      "Adam/Assign_1\n",
      "Adam\n",
      "init\n"
     ]
    }
   ],
   "source": [
    "graph = tf.get_default_graph()\n",
    "graph_def = graph.as_graph_def()\n",
    "\n",
    "for node in graph_def.node:\n",
    "    print (node.name)"
   ]
  },
  {
   "cell_type": "code",
   "execution_count": 21,
   "metadata": {},
   "outputs": [
    {
     "name": "stdout",
     "output_type": "stream",
     "text": [
      "name: \"layer1/b\"\n",
      "op: \"VariableV2\"\n",
      "attr {\n",
      "  key: \"_class\"\n",
      "  value {\n",
      "    list {\n",
      "      s: \"loc:@layer1/b\"\n",
      "    }\n",
      "  }\n",
      "}\n",
      "attr {\n",
      "  key: \"container\"\n",
      "  value {\n",
      "    s: \"\"\n",
      "  }\n",
      "}\n",
      "attr {\n",
      "  key: \"dtype\"\n",
      "  value {\n",
      "    type: DT_FLOAT\n",
      "  }\n",
      "}\n",
      "attr {\n",
      "  key: \"shape\"\n",
      "  value {\n",
      "    shape {\n",
      "      dim {\n",
      "        size: 32\n",
      "      }\n",
      "    }\n",
      "  }\n",
      "}\n",
      "attr {\n",
      "  key: \"shared_name\"\n",
      "  value {\n",
      "    s: \"\"\n",
      "  }\n",
      "}\n",
      "\n"
     ]
    }
   ],
   "source": [
    "for node in graph_def.node:\n",
    "    if node.name == 'layer1/b':\n",
    "        print (node)"
   ]
  },
  {
   "cell_type": "code",
   "execution_count": null,
   "metadata": {},
   "outputs": [],
   "source": []
  }
 ],
 "metadata": {
  "kernelspec": {
   "display_name": "Python 3",
   "language": "python",
   "name": "python3"
  },
  "language_info": {
   "codemirror_mode": {
    "name": "ipython",
    "version": 3
   },
   "file_extension": ".py",
   "mimetype": "text/x-python",
   "name": "python",
   "nbconvert_exporter": "python",
   "pygments_lexer": "ipython3",
   "version": "3.6.9"
  }
 },
 "nbformat": 4,
 "nbformat_minor": 2
}
